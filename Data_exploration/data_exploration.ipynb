{
 "cells": [
  {
   "cell_type": "markdown",
   "metadata": {},
   "source": [
    "## Importations"
   ]
  },
  {
   "cell_type": "code",
   "execution_count": 26,
   "metadata": {},
   "outputs": [],
   "source": [
    "import csv\n",
    "import numpy as np \n",
    "import pandas as pd\n",
    "import matplotlib.pyplot as plt\n",
    "import seaborn as sns\n",
    "from nltk.probability import FreqDist\n",
    "import nltk\n",
    "import string\n",
    "import re \n",
    "import unicodedata\n",
    "from tqdm import tqdm\n",
    "import unicodedata\n",
    "from collections import defaultdict\n"
   ]
  },
  {
   "cell_type": "markdown",
   "metadata": {},
   "source": [
    "## Data Loading"
   ]
  },
  {
   "cell_type": "code",
   "execution_count": 8,
   "metadata": {},
   "outputs": [],
   "source": [
    "\n",
    "\n",
    "file_path_train = \"data/train_submission.csv\"\n",
    "data_train = pd.read_csv(file_path_train)\n"
   ]
  },
  {
   "cell_type": "code",
   "execution_count": 17,
   "metadata": {},
   "outputs": [
    {
     "data": {
      "text/html": [
       "<div>\n",
       "<style scoped>\n",
       "    .dataframe tbody tr th:only-of-type {\n",
       "        vertical-align: middle;\n",
       "    }\n",
       "\n",
       "    .dataframe tbody tr th {\n",
       "        vertical-align: top;\n",
       "    }\n",
       "\n",
       "    .dataframe thead th {\n",
       "        text-align: right;\n",
       "    }\n",
       "</style>\n",
       "<table border=\"1\" class=\"dataframe\">\n",
       "  <thead>\n",
       "    <tr style=\"text-align: right;\">\n",
       "      <th></th>\n",
       "      <th>Usage</th>\n",
       "      <th>Text</th>\n",
       "      <th>Label</th>\n",
       "    </tr>\n",
       "  </thead>\n",
       "  <tbody>\n",
       "    <tr>\n",
       "      <th>0</th>\n",
       "      <td>Public</td>\n",
       "      <td>َ قَالَ النَّبِيُّ ص إِنِّي أَتَعَجَّبُ مِمَّن...</td>\n",
       "      <td>hau</td>\n",
       "    </tr>\n",
       "    <tr>\n",
       "      <th>1</th>\n",
       "      <td>Public</td>\n",
       "      <td>Filmen forteller historien om Will Hunting  en...</td>\n",
       "      <td>nob</td>\n",
       "    </tr>\n",
       "    <tr>\n",
       "      <th>2</th>\n",
       "      <td>Public</td>\n",
       "      <td>An Arthrostylidium berryi in uska species han ...</td>\n",
       "      <td>wln</td>\n",
       "    </tr>\n",
       "    <tr>\n",
       "      <th>3</th>\n",
       "      <td>Public</td>\n",
       "      <td>Kancunarí enemigosniyquichejta munacuychej  al...</td>\n",
       "      <td>quh</td>\n",
       "    </tr>\n",
       "    <tr>\n",
       "      <th>4</th>\n",
       "      <td>Public</td>\n",
       "      <td>Warmeqa ama yachachichunchu hermanospa tantaku...</td>\n",
       "      <td>quh</td>\n",
       "    </tr>\n",
       "  </tbody>\n",
       "</table>\n",
       "</div>"
      ],
      "text/plain": [
       "    Usage                                               Text Label\n",
       "0  Public  َ قَالَ النَّبِيُّ ص إِنِّي أَتَعَجَّبُ مِمَّن...   hau\n",
       "1  Public  Filmen forteller historien om Will Hunting  en...   nob\n",
       "2  Public  An Arthrostylidium berryi in uska species han ...   wln\n",
       "3  Public  Kancunarí enemigosniyquichejta munacuychej  al...   quh\n",
       "4  Public  Warmeqa ama yachachichunchu hermanospa tantaku...   quh"
      ]
     },
     "execution_count": 17,
     "metadata": {},
     "output_type": "execute_result"
    }
   ],
   "source": [
    "data_train.head()"
   ]
  },
  {
   "cell_type": "code",
   "execution_count": 18,
   "metadata": {},
   "outputs": [
    {
     "name": "stdout",
     "output_type": "stream",
     "text": [
      "<class 'pandas.core.frame.DataFrame'>\n",
      "RangeIndex: 190599 entries, 0 to 190598\n",
      "Data columns (total 3 columns):\n",
      " #   Column  Non-Null Count   Dtype \n",
      "---  ------  --------------   ----- \n",
      " 0   Usage   190599 non-null  object\n",
      " 1   Text    190599 non-null  object\n",
      " 2   Label   190099 non-null  object\n",
      "dtypes: object(3)\n",
      "memory usage: 4.4+ MB\n"
     ]
    }
   ],
   "source": [
    "data_train.info()"
   ]
  },
  {
   "cell_type": "markdown",
   "metadata": {},
   "source": [
    "# Data Overview\n"
   ]
  },
  {
   "cell_type": "markdown",
   "metadata": {},
   "source": [
    "## First, let's examine the unlabeled data.\n"
   ]
  },
  {
   "cell_type": "markdown",
   "metadata": {},
   "source": [
    "We should check for any missing values in the dataset, as handling them is crucial for accurate analysis and modeling. Any missing data needs to be addressed, either by removing the affected rows or imputing the missing values"
   ]
  },
  {
   "cell_type": "code",
   "execution_count": 9,
   "metadata": {},
   "outputs": [],
   "source": [
    "data_train_without_label = data_train[data_train[\"Label\"].isna()]"
   ]
  },
  {
   "cell_type": "code",
   "execution_count": 10,
   "metadata": {},
   "outputs": [
    {
     "data": {
      "text/html": [
       "<div>\n",
       "<style scoped>\n",
       "    .dataframe tbody tr th:only-of-type {\n",
       "        vertical-align: middle;\n",
       "    }\n",
       "\n",
       "    .dataframe tbody tr th {\n",
       "        vertical-align: top;\n",
       "    }\n",
       "\n",
       "    .dataframe thead th {\n",
       "        text-align: right;\n",
       "    }\n",
       "</style>\n",
       "<table border=\"1\" class=\"dataframe\">\n",
       "  <thead>\n",
       "    <tr style=\"text-align: right;\">\n",
       "      <th></th>\n",
       "      <th>Usage</th>\n",
       "      <th>Text</th>\n",
       "      <th>Label</th>\n",
       "    </tr>\n",
       "  </thead>\n",
       "  <tbody>\n",
       "    <tr>\n",
       "      <th>107</th>\n",
       "      <td>Public</td>\n",
       "      <td>Kòe bô jōa kú  hō͘-sū sió-chiá lâi kā góan mn̄...</td>\n",
       "      <td>NaN</td>\n",
       "    </tr>\n",
       "    <tr>\n",
       "      <th>803</th>\n",
       "      <td>Public</td>\n",
       "      <td>Söğütçük sī chi̍t ê tī Türkiye Aydın séng Çine...</td>\n",
       "      <td>NaN</td>\n",
       "    </tr>\n",
       "    <tr>\n",
       "      <th>1095</th>\n",
       "      <td>Public</td>\n",
       "      <td>Golden Valley Kūn ū khó-lêng sī kóng:</td>\n",
       "      <td>NaN</td>\n",
       "    </tr>\n",
       "    <tr>\n",
       "      <th>1894</th>\n",
       "      <td>Public</td>\n",
       "      <td>Tī Montégut-Lauragais ê sì-ûi ū Nogaret  Revel...</td>\n",
       "      <td>NaN</td>\n",
       "    </tr>\n",
       "    <tr>\n",
       "      <th>2499</th>\n",
       "      <td>Public</td>\n",
       "      <td>Soveria Simeri ùi séng lāi ê hoān-ûi.</td>\n",
       "      <td>NaN</td>\n",
       "    </tr>\n",
       "    <tr>\n",
       "      <th>...</th>\n",
       "      <td>...</td>\n",
       "      <td>...</td>\n",
       "      <td>...</td>\n",
       "    </tr>\n",
       "    <tr>\n",
       "      <th>189637</th>\n",
       "      <td>Public</td>\n",
       "      <td>Bellebrune sī ūi-tī Hoat-kok Nord-Pas-de-Calai...</td>\n",
       "      <td>NaN</td>\n",
       "    </tr>\n",
       "    <tr>\n",
       "      <th>189946</th>\n",
       "      <td>Public</td>\n",
       "      <td>Bô phah-sǹg  tī sin-le̍k 10 go̍eh 29 hō ē-po͘ ...</td>\n",
       "      <td>NaN</td>\n",
       "    </tr>\n",
       "    <tr>\n",
       "      <th>189959</th>\n",
       "      <td>Public</td>\n",
       "      <td>Wiejki sī chi̍t ê tī Pho-lân Kiōng-hô-kok Podl...</td>\n",
       "      <td>NaN</td>\n",
       "    </tr>\n",
       "    <tr>\n",
       "      <th>190397</th>\n",
       "      <td>Public</td>\n",
       "      <td>Tī pún só͘-chāi sì-ûi ê tē-hng ū Valy  Veselí ...</td>\n",
       "      <td>NaN</td>\n",
       "    </tr>\n",
       "    <tr>\n",
       "      <th>190493</th>\n",
       "      <td>Public</td>\n",
       "      <td>Ojén sī tī Se-pan-gâ Andalucía siā-lí Málaga s...</td>\n",
       "      <td>NaN</td>\n",
       "    </tr>\n",
       "  </tbody>\n",
       "</table>\n",
       "<p>500 rows × 3 columns</p>\n",
       "</div>"
      ],
      "text/plain": [
       "         Usage                                               Text Label\n",
       "107     Public  Kòe bô jōa kú  hō͘-sū sió-chiá lâi kā góan mn̄...   NaN\n",
       "803     Public  Söğütçük sī chi̍t ê tī Türkiye Aydın séng Çine...   NaN\n",
       "1095    Public              Golden Valley Kūn ū khó-lêng sī kóng:   NaN\n",
       "1894    Public  Tī Montégut-Lauragais ê sì-ûi ū Nogaret  Revel...   NaN\n",
       "2499    Public              Soveria Simeri ùi séng lāi ê hoān-ûi.   NaN\n",
       "...        ...                                                ...   ...\n",
       "189637  Public  Bellebrune sī ūi-tī Hoat-kok Nord-Pas-de-Calai...   NaN\n",
       "189946  Public  Bô phah-sǹg  tī sin-le̍k 10 go̍eh 29 hō ē-po͘ ...   NaN\n",
       "189959  Public  Wiejki sī chi̍t ê tī Pho-lân Kiōng-hô-kok Podl...   NaN\n",
       "190397  Public  Tī pún só͘-chāi sì-ûi ê tē-hng ū Valy  Veselí ...   NaN\n",
       "190493  Public  Ojén sī tī Se-pan-gâ Andalucía siā-lí Málaga s...   NaN\n",
       "\n",
       "[500 rows x 3 columns]"
      ]
     },
     "execution_count": 10,
     "metadata": {},
     "output_type": "execute_result"
    }
   ],
   "source": [
    "data_train_without_label"
   ]
  },
  {
   "cell_type": "markdown",
   "metadata": {},
   "source": [
    "There are **500** instances that are unlabeled.\n",
    "\n",
    "We choose to remove these instances for the training of our models."
   ]
  },
  {
   "cell_type": "code",
   "execution_count": 11,
   "metadata": {},
   "outputs": [],
   "source": [
    "data_train_without_nan_for_label = data_train.dropna() # suppression des données non labellisées"
   ]
  },
  {
   "cell_type": "markdown",
   "metadata": {},
   "source": [
    "## Analysis of Labeled Data"
   ]
  },
  {
   "cell_type": "markdown",
   "metadata": {},
   "source": [
    "Next, we analyze the labeled data to better understand the distribution and characteristics of each language in the dataset. This step involves examining the frequency of each language, checking for imbalances, and identifying any patterns that might inform our model."
   ]
  },
  {
   "cell_type": "code",
   "execution_count": 12,
   "metadata": {},
   "outputs": [
    {
     "name": "stdout",
     "output_type": "stream",
     "text": [
      "Il y a 390 différentes langues dans le dataset de train\n"
     ]
    }
   ],
   "source": [
    "number_of_languages = len(data_train[\"Label\"].unique())\n",
    "print(f\"Il y a {number_of_languages} différentes langues dans le dataset de train\")"
   ]
  },
  {
   "cell_type": "code",
   "execution_count": 13,
   "metadata": {},
   "outputs": [
    {
     "data": {
      "text/html": [
       "<div>\n",
       "<style scoped>\n",
       "    .dataframe tbody tr th:only-of-type {\n",
       "        vertical-align: middle;\n",
       "    }\n",
       "\n",
       "    .dataframe tbody tr th {\n",
       "        vertical-align: top;\n",
       "    }\n",
       "\n",
       "    .dataframe thead th {\n",
       "        text-align: right;\n",
       "    }\n",
       "</style>\n",
       "<table border=\"1\" class=\"dataframe\">\n",
       "  <thead>\n",
       "    <tr style=\"text-align: right;\">\n",
       "      <th></th>\n",
       "      <th>Usage</th>\n",
       "      <th>Text</th>\n",
       "    </tr>\n",
       "    <tr>\n",
       "      <th>Label</th>\n",
       "      <th></th>\n",
       "      <th></th>\n",
       "    </tr>\n",
       "  </thead>\n",
       "  <tbody>\n",
       "    <tr>\n",
       "      <th>gcr</th>\n",
       "      <td>1</td>\n",
       "      <td>1</td>\n",
       "    </tr>\n",
       "    <tr>\n",
       "      <th>gaa</th>\n",
       "      <td>1</td>\n",
       "      <td>1</td>\n",
       "    </tr>\n",
       "    <tr>\n",
       "      <th>toi</th>\n",
       "      <td>1</td>\n",
       "      <td>1</td>\n",
       "    </tr>\n",
       "    <tr>\n",
       "      <th>kua</th>\n",
       "      <td>1</td>\n",
       "      <td>1</td>\n",
       "    </tr>\n",
       "    <tr>\n",
       "      <th>gil</th>\n",
       "      <td>2</td>\n",
       "      <td>2</td>\n",
       "    </tr>\n",
       "  </tbody>\n",
       "</table>\n",
       "</div>"
      ],
      "text/plain": [
       "       Usage  Text\n",
       "Label             \n",
       "gcr        1     1\n",
       "gaa        1     1\n",
       "toi        1     1\n",
       "kua        1     1\n",
       "gil        2     2"
      ]
     },
     "execution_count": 13,
     "metadata": {},
     "output_type": "execute_result"
    }
   ],
   "source": [
    "dataset_sorted_by_number_instances_by_language = data_train_without_nan_for_label.groupby(\"Label\").count().sort_values('Usage', ascending=True)\n",
    "dataset_sorted_by_number_instances_by_language.head()"
   ]
  },
  {
   "cell_type": "code",
   "execution_count": 14,
   "metadata": {},
   "outputs": [
    {
     "data": {
      "image/png": "[encoded data removed]",
      "text/plain": [
       "<Figure size 1000x600 with 1 Axes>"
      ]
     },
     "metadata": {},
     "output_type": "display_data"
    }
   ],
   "source": [
    "plt.figure(figsize=(10, 6))\n",
    "plt.hist(dataset_sorted_by_number_instances_by_language['Text'], bins=30, edgecolor='black', alpha=0.7)\n",
    "plt.xlabel(\"Number of Instances per Language\", fontsize=12)\n",
    "plt.ylabel(\"Frequency\", fontsize=12)\n",
    "plt.title(\"Distribution of training instances per language in the dataset\", fontsize=14)\n",
    "plt.grid(axis='y', linestyle='--', alpha=0.6)\n",
    "\n",
    "plt.show()"
   ]
  },
  {
   "cell_type": "code",
   "execution_count": 15,
   "metadata": {},
   "outputs": [],
   "source": [
    "#Underrepresented languages\n",
    "df = dataset_sorted_by_number_instances_by_language\n",
    "underrepresented_languages = list(df[df['Text']<10].index)"
   ]
  },
  {
   "cell_type": "markdown",
   "metadata": {},
   "source": [
    "We observe that the number of examples per language varies. Some languages are overrepresented, with the first language having 1500 instances, compared to others."
   ]
  },
  {
   "cell_type": "code",
   "execution_count": 16,
   "metadata": {},
   "outputs": [
    {
     "name": "stdout",
     "output_type": "stream",
     "text": [
      "Le pourcentage de langues avec au moins 100 instances est 93.31619537275064%\n"
     ]
    }
   ],
   "source": [
    "percentage_of_languages_with_at_least_100_instances = len(dataset_sorted_by_number_instances_by_language[dataset_sorted_by_number_instances_by_language[\"Usage\"] >= 100])/len(dataset_sorted_by_number_instances_by_language) * 100\n",
    "print(f\"Le pourcentage de langues avec au moins 100 instances est {percentage_of_languages_with_at_least_100_instances}%\")"
   ]
  },
  {
   "cell_type": "markdown",
   "metadata": {},
   "source": [
    "The percentage of languages with at least 100 instances is 93.32%\n",
    "--> This indicates that a large majority of the languages in the dataset have a sufficient number of instances, with over 93% of the languages having 100 or more examples"
   ]
  },
  {
   "cell_type": "markdown",
   "metadata": {},
   "source": [
    " #  Data Preprocessing "
   ]
  },
  {
   "cell_type": "code",
   "execution_count": 7,
   "metadata": {},
   "outputs": [],
   "source": [
    "\n",
    "def cleaning(text): \n",
    "    \"\"\"\n",
    "    Fonction pour pré-traiter le texte en enlevant tous les éléments de ponctuation, les chiffres, les double espaces, les URL etc. \n",
    "    \"\"\"\n",
    "\n",
    "    if not isinstance(text, str):\n",
    "        return \"\"\n",
    "\n",
    "    # text = re.sub(r\"\\(.*?\\)|\\[.*?\\]|\\{.*?\\}|['\\\"«»„“”‘’]|\\<.*?\\>\", \" \", text) # 1. Supprimer les textes entre (), [], {}, \"\", « »\n",
    "    text = re.sub(r\"https?://[^\\s]+|www\\.[^\\s]+\", \" \", text) # Supprimer les URLs\n",
    "    # text = re.sub(r\"\\b[A-ZÀ-ÖØ-Þ][a-zà-öø-ÿ]*\", \" \", text) # Supprimer les mots qui commencent par une majuscule (prénoms, noms propres, etc.)\n",
    "    # text = re.sub(r\"\\b[A-Z]+\\d*[A-Z\\d]*\", \" \", text) # Supprimer les sigles type \"IK10\", \"ABC123\", \"X4D\" (au moins 1 lettre + au moins 1 chiffre)\n",
    "    text = re.sub(r\"\\d+\", \" \", text)  # Supprimer les nombres isolés\n",
    "    text = text.translate(str.maketrans(\"\", \"\", string.punctuation))  # Supprimer la ponctuation et les caractères spéciaux\n",
    "    # text = ''.join(c for c in text if unicodedata.category(c)[0] not in [\"C\", \"S\"])  # Supprimer les caractères de contrôle Unicode, symboles et emojis\n",
    "    text = ''.join(c for c in text if not (unicodedata.category(c).startswith('P') or unicodedata.category(c) in ['No']))\n",
    "\n",
    "    asian_punctuation = \"，。？！《》【】（）；：、。•\" # Liste de ponctuation à inclure pour les langues asiatiques\n",
    "    text = re.sub(r'[\\-\\u2010-\\u2015]', '', text) # supprime tous les types de tirets\n",
    "    text = re.sub(r\"['\\\"‘’‚‛“”„‟‹›«»⹂⹃⸂⸃⸄⸅⸉⸊「」『』〝〞＂ˮ`´ʹʺʻʼʽʾʿˈˊˋ]\", '', text)\n",
    "\n",
    "    # text = text.translate(str.maketrans('', '', string.punctuation + asian_punctuation)) # supprime la ponctuation asiatique\n",
    "    text = re.sub(r\"\\s+\", \" \", text).strip() # enlève les double espaces\n",
    "\n",
    "    text_cleaned = text.lower() # met le texte en minuscule \n",
    "\n",
    "    return(text_cleaned)\n"
   ]
  },
  {
   "cell_type": "markdown",
   "metadata": {},
   "source": [
    "We have decided not to remove the text within (), [], {}, \"\", and « » as we noticed that doing so leads to worse results. This approach causes us to lose valuable information."
   ]
  },
  {
   "cell_type": "markdown",
   "metadata": {},
   "source": [
    "## Creating an English Word Set to Remove English Words from Mixed-Language Sentences"
   ]
  },
  {
   "cell_type": "markdown",
   "metadata": {},
   "source": [
    "We will create a set of English words to remove any English words from sentences that contain a mix of English and other languages. This helps in reducing noise and ensures that the model focuses more on the non-English parts of the text, especially in multilingual sentences"
   ]
  },
  {
   "cell_type": "code",
   "execution_count": 10,
   "metadata": {},
   "outputs": [
    {
     "name": "stderr",
     "output_type": "stream",
     "text": [
      "[nltk_data] Downloading package words to\n",
      "[nltk_data]     /Users/hippolytelecomte/nltk_data...\n",
      "[nltk_data]   Package words is already up-to-date!\n"
     ]
    }
   ],
   "source": [
    "import nltk\n",
    "from nltk.corpus import words\n",
    "\n",
    "# Télécharger la liste des mots en anglais (une seule fois nécessaire)\n",
    "nltk.download('words')\n",
    "\n",
    "# Liste des mots en anglais\n",
    "english_words = set(word.lower() for word in words.words())\n"
   ]
  },
  {
   "cell_type": "code",
   "execution_count": 11,
   "metadata": {},
   "outputs": [],
   "source": [
    "data_ang = data_train_without_nan_for_label[data_train_without_nan_for_label[\"Label\"] == 'eng'][\"Text\"]\n",
    "\n",
    "# Collecte des mots uniques\n",
    "for text in data_ang:\n",
    "    for word in text.split():\n",
    "        english_words.add(word.lower())"
   ]
  },
  {
   "cell_type": "code",
   "execution_count": 12,
   "metadata": {},
   "outputs": [],
   "source": [
    "def remove_most_english_words(text): \n",
    "    \"\"\"\n",
    "    Fonction pour enlever les mots anglais lorsque la langue du texte n'est pas l'anglais. \n",
    "    \"\"\"\n",
    "    tokens = text.split() \n",
    "    filtered_tokens = [word for word in tokens if word.lower() not in english_words]\n",
    "\n",
    "    return ' '.join(filtered_tokens)"
   ]
  },
  {
   "cell_type": "markdown",
   "metadata": {},
   "source": [
    "Finally, we realize that removing English words from sentences that are not labeled as English reduces our results. This suggests that removing English words from mixed-language sentences may lead to the loss of valuable context, ultimately negatively impacting model performance. Therefore, we decide to retain these words for better accuracy."
   ]
  },
  {
   "cell_type": "code",
   "execution_count": 8,
   "metadata": {},
   "outputs": [],
   "source": [
    "tqdm.pandas()  \n",
    "\n",
    "def pre_processing(df, remove_espace = True, not_test = True, need_to_clean = True): \n",
    "    \"\"\"\n",
    "    Utilisation des méthodes de pré-traitement définies auparavant pour rendre le texte propre. \n",
    "    \"\"\"\n",
    "\n",
    "    if need_to_clean: \n",
    "        df['Text'] = df['Text'].apply(cleaning)\n",
    "    \n",
    "    if not_test: \n",
    "        df['Text'] = df.progress_apply(\n",
    "            lambda row: remove_most_english_words(row['Text']) if row['Label'] != 'eng' else row['Text'], axis=1\n",
    "        )\n",
    "    \n",
    "    if remove_espace: \n",
    "        df['Text'] = df['Text'].str.replace(' ', '', regex=False)\n",
    "    \n",
    "    return df\n"
   ]
  },
  {
   "cell_type": "markdown",
   "metadata": {},
   "source": [
    "We also notice that in the training dataset, there are languages that can be written in different alphabets, especially for some Asian languages. We decide to create a function that detects the alphabets present in the sentence and determines the majority alphabet based on the number of characters (although this method is not optimal, as some alphabets contain more information in their characters than others). Afterward, we update the label of the sentences by adding the alphabet used for the language, thus creating new categories such as \"fra_Latin\" for French written with the Latin alphabet."
   ]
  },
  {
   "cell_type": "code",
   "execution_count": 9,
   "metadata": {},
   "outputs": [],
   "source": [
    "# Catégorisation fine des scripts\n",
    "SCRIPT_MAP = {\n",
    "    \"LATIN\": \"Latin\",\n",
    "    \"CYRILLIC\": \"Cyrillique\",\n",
    "    \"ARABIC\": \"Arabe\",\n",
    "    \"HEBREW\": \"Hébreu\",\n",
    "    \"GREEK\": \"Grec\",\n",
    "    \"DEVANAGARI\": \"Devanagari (Hindi, Sanskrit)\",\n",
    "    \"HIRAGANA\": \"Hiragana (Japonais)\",\n",
    "    \"KATAKANA\": \"Katakana (Japonais)\",\n",
    "    \"CJK\": \"Kanji (Chinois, Japonais, Coréen)\",\n",
    "    \"HANGUL\": \"Hangul (Coréen)\",\n",
    "    \"THAI\": \"Thaï\",\n",
    "    \"ARMENIAN\": \"Arménien\",\n",
    "    \"GEORGIAN\": \"Géorgien\",\n",
    "    \"ETHIOPIC\": \"Éthiopien\",\n",
    "    \"TAMIL\": \"Tamoul\",\n",
    "    \"BENGALI\": \"Bengali\",\n",
    "    \"TELUGU\": \"Télougou\",\n",
    "}\n",
    "\n",
    "def count_alphabet_characters(text):\n",
    "    script_counts = defaultdict(int)\n",
    "\n",
    "    for char in text:\n",
    "        if char.isalpha():  # On ignore les symboles et ponctuations\n",
    "            try:\n",
    "                char_name = unicodedata.name(char) \n",
    "                script_key = char_name.split()[0]  # Prend le premier mot du nom Unicode\n",
    "                \n",
    "                if \"CJK\" in char_name:\n",
    "                    script_key = \"CJK\"  # Les kanji sont classés sous \"CJK UNIFIED IDEOGRAPH\"\n",
    "                \n",
    "                script_name = SCRIPT_MAP.get(script_key, script_key)  # Utilise le mapping o\n",
    "                script_counts[script_name] += 1  # Incrémente le compteur\n",
    "                \n",
    "            except ValueError:\n",
    "                continue  # Si le caractère n'a pas de nom Unicode\n",
    "    \n",
    "    return dict(script_counts)  # Retourne un dictionnaire des comptages\n",
    "\n",
    "def most_frequent_script(text):\n",
    "    script_counts = count_alphabet_characters(text)  # Appel de la fonction précédente\n",
    "    \n",
    "    if script_counts:  # Vérifie si le dictionnaire n'est pas vide\n",
    "        most_common_script = max(script_counts.items(), key=lambda x: x[1])  # Trouve l'alphabet avec le max de caractères\n",
    "        return most_common_script  # Retourne (nom de l'alphabet, nombre d'occurrences)\n",
    "    else:\n",
    "        return None  # Retourne None si aucun alphabet trouvé\n",
    "\n",
    "from tqdm import tqdm\n",
    "\n",
    "def add_alphabet_to_label(df):\n",
    "    for index, row in tqdm(df.iterrows(), total=len(df)):  # Parcourt chaque ligne du DataFrame\n",
    "        alphabet_most_frequent = most_frequent_script(row['Text'])  # Détecte l'alphabet dominant\n",
    "        \n",
    "        if alphabet_most_frequent:  # Vérifie si un alphabet a été trouvé\n",
    "            df.at[index, 'Label'] = f\"{row['Label']}_{alphabet_most_frequent[0]}\"  # Met à jour le label\n",
    "    \n",
    "    return df\n"
   ]
  },
  {
   "cell_type": "code",
   "execution_count": null,
   "metadata": {},
   "outputs": [],
   "source": [
    "\n",
    "def restore_original_label(label):\n",
    "    return label.split(\"_\")[0]  # Prend seulement la première partie avant '_'\n",
    "\n",
    "def restore_labels(liste):\n",
    "    new_liste = []\n",
    "    for element in tqdm(liste): \n",
    "        new_liste.append(restore_original_label(element))\n",
    "    return np.array(new_liste)"
   ]
  }
 ],
 "metadata": {
  "kernelspec": {
   "display_name": "Python 3",
   "language": "python",
   "name": "python3"
  },
  "language_info": {
   "codemirror_mode": {
    "name": "ipython",
    "version": 3
   },
   "file_extension": ".py",
   "mimetype": "text/x-python",
   "name": "python",
   "nbconvert_exporter": "python",
   "pygments_lexer": "ipython3",
   "version": "3.11.0"
  }
 },
 "nbformat": 4,
 "nbformat_minor": 2
}
